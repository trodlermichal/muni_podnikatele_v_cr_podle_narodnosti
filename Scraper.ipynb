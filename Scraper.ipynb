{
 "cells": [
  {
   "cell_type": "code",
   "execution_count": 7,
   "metadata": {},
   "outputs": [],
   "source": [
    "from playwright.async_api import async_playwright\n",
    "import asyncio\n",
    "import os\n",
    "import pandas as pd\n",
    "from pathlib import Path"
   ]
  },
  {
   "cell_type": "code",
   "execution_count": 12,
   "metadata": {},
   "outputs": [],
   "source": [
    "# Určení proměnných\n",
    "# url = odkaz na stránky se stažením souborů\n",
    "# download_path = cesta kam se mají uložit\n",
    "\n",
    "url = \"https://mpo.gov.cz/cz/podnikani/zivnostenske-podnikani/statisticke-udaje-o-podnikatelich/pocty-podnikatelu-dle-obcanstvi-podnikajicich-v-ceske-republice--151024/\"\n",
    "download_path = \"./Download\""
   ]
  },
  {
   "cell_type": "code",
   "execution_count": 50,
   "metadata": {},
   "outputs": [],
   "source": [
    "# Define the Playwright ~ Chromium download function\n",
    "\n",
    "async def fetch_and_download_files(url, download_path):\n",
    "    # Make sure the download path exists\n",
    "    if not os.path.exists(download_path):\n",
    "        os.makedirs(download_path)\n",
    "    \n",
    "    print(\"Done 0\")\n",
    "    async with async_playwright() as pw:\n",
    "        browser = await pw.chromium.launch(headless=True)\n",
    "        page = await browser.new_page()\n",
    "\n",
    "        # Set the download behavior\n",
    "        page.on('download', lambda download: download.save_as(os.path.join(download_path, download.suggested_filename)))\n",
    "\n",
    "        await page.goto(url)\n",
    "        print(\"Done 1\")\n",
    "\n",
    "        # Wait for the page to be fully loaded\n",
    "        await page.wait_for_load_state('load')\n",
    "        print(\"Done 2\")\n",
    "\n",
    "        # Wait for the download links to appear\n",
    "        await page.wait_for_selector('a.download')\n",
    "        print(\"Done 3\")\n",
    "\n",
    "        # Get all 'a' elements with the class 'download'\n",
    "        download_links = await page.query_selector_all('a.download')\n",
    "        print(\"Done 4\")\n",
    "\n",
    "        # Click each download link and wait for the file to be downloaded\n",
    "        if download_links:\n",
    "            d_counts = 0\n",
    "            for link in download_links:\n",
    "                href = await link.get_attribute('href')\n",
    "                #print(f\"Attempting to download: {href}\")\n",
    "                # Click the link to start the download\n",
    "                await link.click()\n",
    "                print(\"Clicking the download link\")\n",
    "                d_counts =+ 1\n",
    "                # Wait for the download to complete (you can adjust this wait time if necessary)\n",
    "                await page.wait_for_timeout(500)  # Adjust if needed to allow the download to finish\n",
    "        else:\n",
    "            print(\"No download links found\")\n",
    "        \n",
    "        print(f\"Done with {d_counts} downloads\")\n",
    "        await browser.close()\n"
   ]
  },
  {
   "cell_type": "code",
   "execution_count": null,
   "metadata": {},
   "outputs": [],
   "source": [
    "# -------------------\n",
    "# RUN download script\n",
    "# -------------------\n",
    "await fetch_and_download_files(url, download_path)"
   ]
  },
  {
   "cell_type": "code",
   "execution_count": 19,
   "metadata": {},
   "outputs": [
    {
     "name": "stdout",
     "output_type": "stream",
     "text": [
      "Ve složce je 17 souborů.\n",
      "Toto jsou jejich jména: ['2024_3.xlsx', '2019_1.xlsx', '2016_4.xlsx', '2017_1.xlsx', '2024_2.xlsx', '2018_4.xlsx', '2016_2.pdf', '2018_3.xlsx', '2018_2.xlsx', '2017_4.xlsx', '2018_1.xlsx', '2020_1.xlsx', '2017_2.xlsx', '2019_3.xlsx', '2024_1.xlsx', '2019_2.xlsx', '2017_3.xlsx']\n"
     ]
    }
   ],
   "source": [
    "# Get names of files in the Download folder\n",
    "# Iterate over all files in the folder\n",
    "\n",
    "folder_path = Path(download_path)\n",
    "\n",
    "processed = 0\n",
    "filenames = []\n",
    "# Iterate over all files in the folder\n",
    "for file in folder_path.iterdir():\n",
    "    if file.is_file():  # Check if it's a file\n",
    "        processed += 1\n",
    "        filenames.append(file.name)\n",
    "        #print(f\"Processing file: {file.name}\")\n",
    "        # Add your processing logic here\n",
    "\n",
    "print(f\"Ve složce je {processed} souborů.\")\n",
    "print(f\"Toto jsou jejich jména: {filenames}\")"
   ]
  },
  {
   "cell_type": "code",
   "execution_count": null,
   "metadata": {},
   "outputs": [],
   "source": [
    "# Open the password-protected file\n",
    "file_path = (f\"{download_path}/2016_4\"\n",
    "df = pd.read_excel(file_path, engine='openpyxl', password=password)\n",
    "\n",
    "# Save as CSV\n",
    "csv_path = 'output.csv'\n",
    "df.to_csv(csv_path, index=False)\n",
    "print(f\"File converted to: {csv_path}\")\n"
   ]
  }
 ],
 "metadata": {
  "kernelspec": {
   "display_name": "Python 3",
   "language": "python",
   "name": "python3"
  },
  "language_info": {
   "codemirror_mode": {
    "name": "ipython",
    "version": 3
   },
   "file_extension": ".py",
   "mimetype": "text/x-python",
   "name": "python",
   "nbconvert_exporter": "python",
   "pygments_lexer": "ipython3",
   "version": "3.11.7"
  }
 },
 "nbformat": 4,
 "nbformat_minor": 2
}
