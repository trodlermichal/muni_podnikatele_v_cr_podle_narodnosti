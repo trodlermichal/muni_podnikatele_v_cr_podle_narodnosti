{
 "cells": [
  {
   "cell_type": "code",
   "execution_count": 207,
   "metadata": {},
   "outputs": [],
   "source": [
    "from playwright.async_api import async_playwright\n",
    "import asyncio\n",
    "import os\n",
    "import pandas as pd\n",
    "from pathlib import Path\n",
    "import openpyxl\n",
    "import tabula"
   ]
  },
  {
   "cell_type": "code",
   "execution_count": 23,
   "metadata": {},
   "outputs": [],
   "source": [
    "# Určení proměnných\n",
    "# url = odkaz na stránky se stažením souborů\n",
    "# download_path = cesta kam se mají uložit\n",
    "\n",
    "url = \"https://mpo.gov.cz/cz/podnikani/zivnostenske-podnikani/statisticke-udaje-o-podnikatelich/pocty-podnikatelu-dle-obcanstvi-podnikajicich-v-ceske-republice--151024/\"\n",
    "download_path = \"./Download\""
   ]
  },
  {
   "cell_type": "code",
   "execution_count": 50,
   "metadata": {},
   "outputs": [],
   "source": [
    "# Define the Playwright ~ Chromium download function\n",
    "\n",
    "async def fetch_and_download_files(url, download_path):\n",
    "    # Make sure the download path exists\n",
    "    if not os.path.exists(download_path):\n",
    "        os.makedirs(download_path)\n",
    "    \n",
    "    print(\"Done 0\")\n",
    "    async with async_playwright() as pw:\n",
    "        browser = await pw.chromium.launch(headless=True)\n",
    "        page = await browser.new_page()\n",
    "\n",
    "        # Set the download behavior\n",
    "        page.on('download', lambda download: download.save_as(os.path.join(download_path, download.suggested_filename)))\n",
    "\n",
    "        await page.goto(url)\n",
    "        print(\"Done 1\")\n",
    "\n",
    "        # Wait for the page to be fully loaded\n",
    "        await page.wait_for_load_state('load')\n",
    "        print(\"Done 2\")\n",
    "\n",
    "        # Wait for the download links to appear\n",
    "        await page.wait_for_selector('a.download')\n",
    "        print(\"Done 3\")\n",
    "\n",
    "        # Get all 'a' elements with the class 'download'\n",
    "        download_links = await page.query_selector_all('a.download')\n",
    "        print(\"Done 4\")\n",
    "\n",
    "        # Click each download link and wait for the file to be downloaded\n",
    "        if download_links:\n",
    "            d_counts = 0\n",
    "            for link in download_links:\n",
    "                href = await link.get_attribute('href')\n",
    "                #print(f\"Attempting to download: {href}\")\n",
    "                # Click the link to start the download\n",
    "                await link.click()\n",
    "                print(\"Clicking the download link\")\n",
    "                d_counts =+ 1\n",
    "                # Wait for the download to complete (you can adjust this wait time if necessary)\n",
    "                await page.wait_for_timeout(500)  # Adjust if needed to allow the download to finish\n",
    "        else:\n",
    "            print(\"No download links found\")\n",
    "        \n",
    "        print(f\"Done with {d_counts} downloads\")\n",
    "        await browser.close()\n"
   ]
  },
  {
   "cell_type": "code",
   "execution_count": null,
   "metadata": {},
   "outputs": [],
   "source": [
    "# -------------------\n",
    "# RUN download script\n",
    "# -------------------\n",
    "await fetch_and_download_files(url, download_path)"
   ]
  },
  {
   "cell_type": "code",
   "execution_count": 19,
   "metadata": {},
   "outputs": [
    {
     "name": "stdout",
     "output_type": "stream",
     "text": [
      "Ve složce je 17 souborů.\n",
      "Toto jsou jejich jména: ['2024_3.xlsx', '2019_1.xlsx', '2016_4.xlsx', '2017_1.xlsx', '2024_2.xlsx', '2018_4.xlsx', '2016_2.pdf', '2018_3.xlsx', '2018_2.xlsx', '2017_4.xlsx', '2018_1.xlsx', '2020_1.xlsx', '2017_2.xlsx', '2019_3.xlsx', '2024_1.xlsx', '2019_2.xlsx', '2017_3.xlsx']\n"
     ]
    }
   ],
   "source": [
    "# Zjistit, kolik se stáhlo souborů a vypsat jména\n",
    "\n",
    "folder_path = Path(download_path)\n",
    "\n",
    "processed = 0\n",
    "filenames = []\n",
    "# Iterate over all files in the folder\n",
    "for file in folder_path.iterdir():\n",
    "    if file.is_file():  # Check if it's a file\n",
    "        processed += 1\n",
    "        filenames.append(file.name)\n",
    "        #print(f\"Processing file: {file.name}\")\n",
    "        # Add your processing logic here\n",
    "\n",
    "print(f\"Ve složce je {processed} souborů.\")\n",
    "print(f\"Toto jsou jejich jména: {filenames}\")"
   ]
  },
  {
   "cell_type": "code",
   "execution_count": 141,
   "metadata": {},
   "outputs": [
    {
     "name": "stdout",
     "output_type": "stream",
     "text": [
      "File converted to: ./Download_CSV/2016_4.csv\n"
     ]
    }
   ],
   "source": [
    "# Zkusmo otevřít jeden .xlsx soubor a uložit ho jako .csv\n",
    "file = \"2016_4\"\n",
    "file_path = (f\"{download_path}/{file}.xlsx\")\n",
    "df = pd.read_excel(file_path, engine='openpyxl')\n",
    "\n",
    "# Save as CSV\n",
    "csv_path = (f\"{download_path}_CSV/{file}.csv\")\n",
    "df.to_csv(csv_path, index=False)\n",
    "print(f\"File converted to: {csv_path}\")\n"
   ]
  },
  {
   "cell_type": "code",
   "execution_count": 199,
   "metadata": {},
   "outputs": [],
   "source": [
    "# Otevřeme v pandasu a zahodíme 4 zbytečné řádky + resetujeme index\n",
    "\n",
    "df = pd.read_csv(csv_path, header=None)  # Read without headers\n",
    "dff = df.iloc[4:].reset_index(drop=True)  # Drop first 4 rows and reset the index\n",
    "dff.columns = dff.iloc[0]  # Set the 5th row (which is now the first row after dropping) as column names\n",
    "dff = dff.drop(0).reset_index(drop=True)  # Drop the row that has been used as column names"
   ]
  },
  {
   "cell_type": "code",
   "execution_count": 201,
   "metadata": {},
   "outputs": [
    {
     "name": "stdout",
     "output_type": "stream",
     "text": [
      "(168, 19)\n",
      "(163, 19)\n",
      "0    Občanství  Kód Kód zn. Kód zn. Hlavní město Praha Středočeský kraj  \\\n",
      "0  Afghánistán  004      AF     AFG                 15                7   \n",
      "1      Albánie  008      AL     ALB                 11                8   \n",
      "\n",
      "0 Jihočeský kraj Plzeňský kraj Karlovarský kraj Ústecký kraj Liberecký kraj  \\\n",
      "0              0             0                1            6              2   \n",
      "1              4             1                1            2              1   \n",
      "\n",
      "0 Královéhradecký kraj Pardubický kraj Kraj Vysočina Jihomoravský kraj  \\\n",
      "0                    0               0             1                13   \n",
      "1                    2               1             1                 2   \n",
      "\n",
      "0 Olomoucký kraj Moravskoslezský kraj Zlínský kraj Součet  \n",
      "0              4                    2            0     51  \n",
      "1              1                    1            4     40  \n"
     ]
    }
   ],
   "source": [
    "print(df.shape)\n",
    "print(dff.shape)\n",
    "print(dff.head(2))"
   ]
  },
  {
   "cell_type": "code",
   "execution_count": 204,
   "metadata": {},
   "outputs": [
    {
     "name": "stdout",
     "output_type": "stream",
     "text": [
      "Dataframe má tvar: (163, 19)\n",
      "Indexy: RangeIndex(start=0, stop=163, step=1)\n",
      "Sloupce se jmenují: Index(['Občanství', 'Kód', 'Kód zn.', 'Kód zn.', 'Hlavní město Praha',\n",
      "       'Středočeský kraj', 'Jihočeský kraj', 'Plzeňský kraj',\n",
      "       'Karlovarský kraj', 'Ústecký kraj', 'Liberecký kraj',\n",
      "       'Královéhradecký kraj', 'Pardubický kraj', 'Kraj Vysočina',\n",
      "       'Jihomoravský kraj', 'Olomoucký kraj', 'Moravskoslezský kraj',\n",
      "       'Zlínský kraj', 'Součet'],\n",
      "      dtype='object', name=0)\n"
     ]
    }
   ],
   "source": [
    "# Základní přehled\n",
    "print(f\"Dataframe má tvar: {dff.shape}\")\n",
    "print(f\"Indexy: {dff.index}\")\n",
    "print(f\"Sloupce se jmenují: {dff.columns}\")\n"
   ]
  },
  {
   "cell_type": "code",
   "execution_count": 211,
   "metadata": {},
   "outputs": [
    {
     "ename": "SyntaxError",
     "evalue": "f-string: empty expression not allowed (4193627854.py, line 30)",
     "output_type": "error",
     "traceback": [
      "\u001b[0;36m  Cell \u001b[0;32mIn[211], line 30\u001b[0;36m\u001b[0m\n\u001b[0;31m    print(f\"---> Teď jdeme na: {}\")\u001b[0m\n\u001b[0m                                  ^\u001b[0m\n\u001b[0;31mSyntaxError\u001b[0m\u001b[0;31m:\u001b[0m f-string: empty expression not allowed\n"
     ]
    }
   ],
   "source": [
    "# Automatizace převodu celé složky .XLSX na správné .CSV\n",
    "\n",
    "download_path = \"./Download\"\n",
    "export_path = \"./Download_CSV\"\n",
    "\n",
    "\n",
    "folder_path = Path(download_path)\n",
    "\n",
    "files = list(folder_path.iterdir())\n",
    "print(files)\n",
    "\n",
    "processed = 0\n",
    "#filenames = []\n",
    "# Iterate over all files in the folder\n",
    "for file in folder_path.iterdir():\n",
    "    if file.is_file():  # Check if it's a file\n",
    "        processed += 1\n",
    "        #filenames.append(file.name)\n",
    "        #print(f\"Processing file: {file.name}\")\n",
    "\n",
    "        # Zkusmo otevřít jeden .xlsx soubor a uložit ho jako .csv\n",
    "        file_path = (f\"{download_path}/{file.name}\")\n",
    "        df = pd.read_excel(file_path, engine='openpyxl')\n",
    "\n",
    "        # Save as CSV\n",
    "        newname = (file.name).replace(\".xlsx\", \"\")\n",
    "        csv_path = (f\"{export_path}/{newname}.csv\")\n",
    "        df.to_csv(csv_path, index=False)\n",
    "        print(f\"Soubor {csv_path} byl úspěšně uložen\", end=\"\\n\")\n",
    "\n",
    "print(f\"Ve složce je {processed} souborů.\")\n",
    "#print(f\"Toto jsou jejich jména: {filenames}\")"
   ]
  },
  {
   "cell_type": "code",
   "execution_count": null,
   "metadata": {},
   "outputs": [],
   "source": [
    "'''\n",
    "------------------------------ THE END ---------------------------------\n",
    "'''"
   ]
  },
  {
   "cell_type": "code",
   "execution_count": null,
   "metadata": {},
   "outputs": [],
   "source": [
    "def process_locked_xlsx_files(input_folder, output_folder):\n",
    "    \"\"\"\n",
    "    Process all .xlsx files in the input folder:\n",
    "    - Reads locked sheets.\n",
    "    - Saves them as .csv files.\n",
    "    - Loads the data into pandas DataFrames for further processing.\n",
    "\n",
    "    Parameters:\n",
    "    input_folder (str): Path to the folder containing .xlsx files.\n",
    "    output_folder (str): Path to the folder to save the .csv files.\n",
    "\n",
    "    Returns:\n",
    "    list: A list of pandas DataFrames.\n",
    "    \"\"\"\n",
    "    # Ensure the output folder exists\n",
    "    Path(output_folder).mkdir(parents=True, exist_ok=True)\n",
    "    \n",
    "    # List to store DataFrames\n",
    "    dataframes = []\n",
    "    \n",
    "    # Iterate over all .xlsx files in the input folder\n",
    "    for file in Path(input_folder).glob(\"*.xlsx\"):\n",
    "        try:\n",
    "            print(f\"Processing file: {file.name}\")\n",
    "            \n",
    "            # Load the workbook\n",
    "            wb = load_workbook(filename=file, data_only=True)\n",
    "            \n",
    "            # Get the first sheet (adjust logic if a specific sheet is needed)\n",
    "            sheet_name = wb.sheetnames[0]\n",
    "            sheet = wb[sheet_name]\n",
    "            \n",
    "            # Extract sheet data\n",
    "            data = [[cell.value for cell in row] for row in sheet.iter_rows()]\n",
    "            \n",
    "            # Convert to pandas DataFrame\n",
    "            df = pd.DataFrame(data[1:], columns=data[0])  # Assumes first row is the header\n",
    "            dataframes.append(df)\n",
    "            \n",
    "            # Save as CSV\n",
    "            csv_file = Path(output_folder) / f\"{file.stem}.csv\"\n",
    "            df.to_csv(csv_file, index=False)\n",
    "            print(f\"Saved CSV: {csv_file}\")\n",
    "        \n",
    "        except Exception as e:\n",
    "            print(f\"Error processing {file.name}: {e}\")\n",
    "    \n",
    "    return dataframes\n",
    "\n",
    "# Define input and output folders\n",
    "input_folder = \"Download\"  # Path to your .xlsx files folder\n",
    "output_folder = \"Processed\"  # Folder to save .csv files\n",
    "\n",
    "# Process files\n",
    "dfs = process_locked_xlsx_files(input_folder, output_folder)\n",
    "\n",
    "# Merge all DataFrames if needed\n",
    "if dfs:\n",
    "    merged_df = pd.concat(dfs, ignore_index=True)\n",
    "    print(\"Merged DataFrame:\")\n",
    "    print(merged_df.head())\n",
    "\n",
    "    # Save the merged DataFrame as a CSV\n",
    "    merged_csv_path = Path(output_folder) / \"merged_data.csv\"\n",
    "    merged_df.to_csv(merged_csv_path, index=False)\n",
    "    print(f\"Merged data saved to {merged_csv_path}\")\n"
   ]
  }
 ],
 "metadata": {
  "kernelspec": {
   "display_name": "Python 3",
   "language": "python",
   "name": "python3"
  },
  "language_info": {
   "codemirror_mode": {
    "name": "ipython",
    "version": 3
   },
   "file_extension": ".py",
   "mimetype": "text/x-python",
   "name": "python",
   "nbconvert_exporter": "python",
   "pygments_lexer": "ipython3",
   "version": "3.11.7"
  }
 },
 "nbformat": 4,
 "nbformat_minor": 2
}
